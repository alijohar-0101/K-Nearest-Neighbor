{
 "cells": [
  {
   "cell_type": "code",
   "execution_count": 2,
   "metadata": {},
   "outputs": [],
   "source": [
    "import pandas as pd\n",
    "import numpy as np"
   ]
  },
  {
   "cell_type": "code",
   "execution_count": 3,
   "metadata": {},
   "outputs": [],
   "source": [
    "data = pd.read_csv('nba_elo_latest.csv')\n",
    "Glance = 10\n",
    "view = data.head(Glance)"
   ]
  },
  {
   "cell_type": "code",
   "execution_count": 4,
   "metadata": {},
   "outputs": [
    {
     "name": "stdout",
     "output_type": "stream",
     "text": [
      "         date  season  neutral  playoff team1 team2     elo1_pre     elo2_pre  \\\n",
      "0  22-10-2019    2020        0      NaN   TOR   NOP  1672.986505  1415.320539   \n",
      "1  22-10-2019    2020        0      NaN   LAC   LAL  1516.608615  1472.910316   \n",
      "2  23-10-2019    2020        0      NaN   ORL   CLE  1543.184270  1349.547207   \n",
      "3  23-10-2019    2020        0      NaN   IND   DET  1509.543437  1475.760043   \n",
      "4  23-10-2019    2020        0      NaN   CHO   CHI  1497.243026  1350.430528   \n",
      "5  23-10-2019    2020        0      NaN   MIA   MEM  1498.745533  1459.007730   \n",
      "6  23-10-2019    2020        0      NaN   PHI   BOS  1582.396776  1577.783552   \n",
      "7  23-10-2019    2020        0      NaN   BRK   MIN  1494.767592  1465.413016   \n",
      "8  23-10-2019    2020        0      NaN   DAL   WAS  1462.203595  1434.800503   \n",
      "9  23-10-2019    2020        0      NaN   SAS   NYK  1553.991763  1319.230082   \n",
      "\n",
      "   elo_prob1  elo_prob2  ...  carm-elo_prob2  carm-elo1_post  carm-elo2_post  \\\n",
      "0   0.886843   0.113157  ...        0.072603     1733.722388     1390.602498   \n",
      "1   0.695761   0.304239  ...        0.299206     1531.497188     1466.902377   \n",
      "2   0.844265   0.155735  ...        0.103941     1563.111764     1284.452463   \n",
      "3   0.683547   0.316453  ...        0.305599     1495.841897     1483.885789   \n",
      "4   0.805459   0.194541  ...        0.153758     1498.648614     1302.669662   \n",
      "5   0.690914   0.309086  ...        0.303140     1510.723476     1446.522395   \n",
      "6   0.646160   0.353840  ...        0.365925     1621.084472     1602.129258   \n",
      "7   0.678006   0.321994  ...        0.309627     1488.464031     1460.575031   \n",
      "8   0.675549   0.324451  ...        0.309552     1461.417475     1415.212143   \n",
      "9   0.872922   0.127078  ...        0.082099     1569.614776     1255.479918   \n",
      "\n",
      "   raptor1_pre  raptor2_pre  raptor_prob1  raptor_prob2  score1  score2  \\\n",
      "0  1570.910027  1524.919692      0.700184      0.299816     130     122   \n",
      "1  1577.796320  1625.627026      0.566564      0.433436     112     102   \n",
      "2  1531.390741  1353.206762      0.831140      0.168860      94      85   \n",
      "3  1504.513476  1401.768520      0.762733      0.237267     110     119   \n",
      "4  1353.401527  1463.721552      0.488451      0.511549     126     125   \n",
      "5  1506.590093  1466.193364      0.688746      0.311254     120     101   \n",
      "6  1650.774184  1568.193391      0.734324      0.265676     107      93   \n",
      "7  1503.498342  1575.423408      0.538667      0.461333     126     127   \n",
      "8  1565.883082  1419.180982      0.808291      0.191709     108     100   \n",
      "9  1497.530381  1297.555115      0.854555      0.145445     120     111   \n",
      "\n",
      "   Team1 Win  \n",
      "0        win  \n",
      "1        win  \n",
      "2        win  \n",
      "3      loose  \n",
      "4        win  \n",
      "5        win  \n",
      "6        win  \n",
      "7      loose  \n",
      "8        win  \n",
      "9        win  \n",
      "\n",
      "[10 rows x 25 columns]\n"
     ]
    }
   ],
   "source": [
    "print(view)"
   ]
  },
  {
   "cell_type": "code",
   "execution_count": 6,
   "metadata": {},
   "outputs": [
    {
     "data": {
      "text/plain": [
       "(970, 25)"
      ]
     },
     "execution_count": 6,
     "metadata": {},
     "output_type": "execute_result"
    }
   ],
   "source": [
    "data.shape"
   ]
  },
  {
   "cell_type": "code",
   "execution_count": 9,
   "metadata": {},
   "outputs": [
    {
     "data": {
      "text/plain": [
       "date               object\n",
       "season              int64\n",
       "neutral             int64\n",
       "playoff           float64\n",
       "team1              object\n",
       "team2              object\n",
       "elo1_pre          float64\n",
       "elo2_pre          float64\n",
       "elo_prob1         float64\n",
       "elo_prob2         float64\n",
       "elo1_post         float64\n",
       "elo2_post         float64\n",
       "carm-elo1_pre     float64\n",
       "carm-elo2_pre     float64\n",
       "carm-elo_prob1    float64\n",
       "carm-elo_prob2    float64\n",
       "carm-elo1_post    float64\n",
       "carm-elo2_post    float64\n",
       "raptor1_pre       float64\n",
       "raptor2_pre       float64\n",
       "raptor_prob1      float64\n",
       "raptor_prob2      float64\n",
       "score1              int64\n",
       "score2              int64\n",
       "Team1 Win          object\n",
       "dtype: object"
      ]
     },
     "execution_count": 9,
     "metadata": {},
     "output_type": "execute_result"
    }
   ],
   "source": [
    "data.dtypes"
   ]
  },
  {
   "cell_type": "code",
   "execution_count": 13,
   "metadata": {},
   "outputs": [
    {
     "data": {
      "text/plain": [
       "<bound method NDFrame.describe of            date  season  neutral  playoff team1 team2     elo1_pre  \\\n",
       "0    22-10-2019    2020        0      NaN   TOR   NOP  1672.986505   \n",
       "1    22-10-2019    2020        0      NaN   LAC   LAL  1516.608615   \n",
       "2    23-10-2019    2020        0      NaN   ORL   CLE  1543.184270   \n",
       "3    23-10-2019    2020        0      NaN   IND   DET  1509.543437   \n",
       "4    23-10-2019    2020        0      NaN   CHO   CHI  1497.243026   \n",
       "..          ...     ...      ...      ...   ...   ...          ...   \n",
       "965  10-03-2020    2020        0      NaN   LAL   BRK  1689.005314   \n",
       "966  10-03-2020    2020        0      NaN   GSW   LAC  1367.967488   \n",
       "967  11-03-2020    2020        0      NaN   PHI   DET  1560.465131   \n",
       "968  11-03-2020    2020        0      NaN   ATL   NYK  1355.488051   \n",
       "969  11-03-2020    2020        0      NaN   MIA   CHO  1577.722492   \n",
       "\n",
       "        elo2_pre  elo_prob1  elo_prob2  ...  carm-elo_prob2  carm-elo1_post  \\\n",
       "0    1415.320539   0.886843   0.113157  ...        0.072603     1733.722388   \n",
       "1    1472.910316   0.695761   0.304239  ...        0.299206     1531.497188   \n",
       "2    1349.547207   0.844265   0.155735  ...        0.103941     1563.111764   \n",
       "3    1475.760043   0.683547   0.316453  ...        0.305599     1495.841897   \n",
       "4    1350.430528   0.805459   0.194541  ...        0.153758     1498.648614   \n",
       "..           ...        ...        ...  ...             ...             ...   \n",
       "965  1466.511690   0.864879   0.135121  ...        0.128718     1685.839519   \n",
       "966  1626.468250   0.286508   0.713492  ...        0.715784     1368.755615   \n",
       "967  1344.474388   0.860445   0.139555  ...        0.148097     1570.883461   \n",
       "968  1333.783863   0.668318   0.331682  ...        0.254072     1341.165555   \n",
       "969  1372.155980   0.853082   0.146918  ...        0.149837     1559.586259   \n",
       "\n",
       "     carm-elo2_post  raptor1_pre  raptor2_pre  raptor_prob1  raptor_prob2  \\\n",
       "0       1390.602498  1570.910027  1524.919692      0.700184      0.299816   \n",
       "1       1466.902377  1577.796320  1625.627026      0.566564      0.433436   \n",
       "2       1284.452463  1531.390741  1353.206762      0.831140      0.168860   \n",
       "3       1483.885789  1504.513476  1401.768520      0.762733      0.237267   \n",
       "4       1302.669662  1353.401527  1463.721552      0.488451      0.511549   \n",
       "..              ...          ...          ...           ...           ...   \n",
       "965     1485.902686  1641.666701  1402.990490      0.881145      0.118855   \n",
       "966     1642.596940  1224.244931  1729.395887      0.086024      0.913976   \n",
       "967     1337.243481  1568.346949  1210.608513      0.924544      0.075456   \n",
       "968     1329.696923  1379.244752  1300.062453      0.789955      0.210045   \n",
       "969     1397.679769  1504.470797  1316.707284      0.832107      0.167893   \n",
       "\n",
       "     score1  score2  Team1 Win  \n",
       "0       130     122        win  \n",
       "1       112     102        win  \n",
       "2        94      85        win  \n",
       "3       110     119      loose  \n",
       "4       126     125        win  \n",
       "..      ...     ...        ...  \n",
       "965     102     104      loose  \n",
       "966     107     131      loose  \n",
       "967     124     106        win  \n",
       "968     131     136      loose  \n",
       "969      98     109      loose  \n",
       "\n",
       "[970 rows x 25 columns]>"
      ]
     },
     "execution_count": 13,
     "metadata": {},
     "output_type": "execute_result"
    }
   ],
   "source": [
    "data.describe"
   ]
  },
  {
   "cell_type": "code",
   "execution_count": 18,
   "metadata": {},
   "outputs": [],
   "source": [
    "from sklearn.model_selection import train_test_split\n",
    "from sklearn.preprocessing import StandardScaler\n",
    "from sklearn.neighbors import KNeighborsClassifier\n",
    "from sklearn.metrics import accuracy_score"
   ]
  },
  {
   "cell_type": "code",
   "execution_count": 19,
   "metadata": {},
   "outputs": [],
   "source": [
    "X = data.iloc[:, 6:24]\n",
    "y = data.iloc[:, 24] \n",
    "X_train, X_test, y_train, y_test = train_test_split(X, y , random_state=0, test_size=0.2) #test data is 20%\n"
   ]
  },
  {
   "cell_type": "code",
   "execution_count": 28,
   "metadata": {},
   "outputs": [],
   "source": [
    "#standarizing the data \n",
    "#we standardize only input variables because we will be predicting the output based on this standardized data.\n",
    "sc_X = StandardScaler()\n",
    "X_train = sc_X.fit_transform(X_train) \n",
    "X_test = sc_X.transform(X_test)"
   ]
  },
  {
   "cell_type": "code",
   "execution_count": 21,
   "metadata": {},
   "outputs": [
    {
     "data": {
      "text/plain": [
       "KNeighborsClassifier(algorithm='auto', leaf_size=30, metric='euclidean',\n",
       "                     metric_params=None, n_jobs=None, n_neighbors=4, p=2,\n",
       "                     weights='uniform')"
      ]
     },
     "execution_count": 21,
     "metadata": {},
     "output_type": "execute_result"
    }
   ],
   "source": [
    "classifier = KNeighborsClassifier(n_neighbors=4, p=2, metric='euclidean')\n",
    "classifier.fit(X_train,y_train)"
   ]
  },
  {
   "cell_type": "code",
   "execution_count": 22,
   "metadata": {},
   "outputs": [
    {
     "name": "stdout",
     "output_type": "stream",
     "text": [
      "['win' 'loose' 'loose' 'loose' 'win' 'win' 'loose' 'loose' 'loose' 'loose'\n",
      " 'win' 'win' 'loose' 'win' 'loose' 'win' 'win' 'loose' 'loose' 'win'\n",
      " 'loose' 'loose' 'win' 'loose' 'loose' 'win' 'loose' 'loose' 'loose' 'win'\n",
      " 'win' 'loose' 'loose' 'loose' 'loose' 'loose' 'loose' 'loose' 'win'\n",
      " 'loose' 'loose' 'loose' 'loose' 'win' 'loose' 'loose' 'loose' 'loose'\n",
      " 'win' 'win' 'win' 'win' 'loose' 'loose' 'loose' 'win' 'loose' 'win' 'win'\n",
      " 'win' 'win' 'loose' 'loose' 'loose' 'win' 'loose' 'win' 'loose' 'win'\n",
      " 'loose' 'loose' 'loose' 'win' 'loose' 'loose' 'loose' 'loose' 'loose'\n",
      " 'loose' 'loose' 'win' 'win' 'loose' 'win' 'loose' 'loose' 'win' 'loose'\n",
      " 'loose' 'loose' 'win' 'win' 'loose' 'win' 'win' 'loose' 'loose' 'win'\n",
      " 'loose' 'loose' 'loose' 'loose' 'win' 'win' 'win' 'loose' 'win' 'loose'\n",
      " 'loose' 'loose' 'win' 'win' 'win' 'win' 'win' 'win' 'win' 'win' 'win'\n",
      " 'loose' 'loose' 'loose' 'win' 'win' 'win' 'win' 'win' 'loose' 'win'\n",
      " 'loose' 'win' 'win' 'win' 'loose' 'win' 'loose' 'loose' 'win' 'loose'\n",
      " 'loose' 'win' 'loose' 'loose' 'win' 'win' 'win' 'loose' 'loose' 'loose'\n",
      " 'win' 'loose' 'loose' 'win' 'loose' 'loose' 'loose' 'win' 'loose' 'loose'\n",
      " 'win' 'loose' 'loose' 'win' 'loose' 'win' 'loose' 'loose' 'win' 'loose'\n",
      " 'loose' 'loose' 'win' 'win' 'loose' 'loose' 'win' 'loose' 'win' 'loose'\n",
      " 'win' 'win' 'win' 'win' 'win' 'loose' 'win' 'loose' 'loose' 'loose' 'win'\n",
      " 'win' 'win' 'win' 'win']\n"
     ]
    }
   ],
   "source": [
    "y_pred = classifier.predict(X_test)\n",
    "print(y_pred)"
   ]
  },
  {
   "cell_type": "code",
   "execution_count": 25,
   "metadata": {},
   "outputs": [
    {
     "name": "stdout",
     "output_type": "stream",
     "text": [
      "0.8247422680412371\n"
     ]
    }
   ],
   "source": [
    "print(accuracy_score(y_test,y_pred))"
   ]
  }
 ],
 "metadata": {
  "kernelspec": {
   "display_name": "Python 3",
   "language": "python",
   "name": "python3"
  },
  "language_info": {
   "codemirror_mode": {
    "name": "ipython",
    "version": 3
   },
   "file_extension": ".py",
   "mimetype": "text/x-python",
   "name": "python",
   "nbconvert_exporter": "python",
   "pygments_lexer": "ipython3",
   "version": "3.7.4"
  }
 },
 "nbformat": 4,
 "nbformat_minor": 2
}
